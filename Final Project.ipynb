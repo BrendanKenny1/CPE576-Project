{
 "cells": [
  {
   "cell_type": "code",
   "execution_count": 1,
   "id": "f89aa25a",
   "metadata": {},
   "outputs": [
    {
     "name": "stdout",
     "output_type": "stream",
     "text": [
      "{'uci_id': 942, 'name': 'RT-IoT2022 ', 'repository_url': 'https://archive.ics.uci.edu/dataset/942/rt-iot2022', 'data_url': 'https://archive.ics.uci.edu/static/public/942/data.csv', 'abstract': 'The RT-IoT2022, a proprietary dataset derived from a real-time IoT infrastructure, is introduced as a comprehensive resource integrating a diverse range of IoT devices and sophisticated network attack methodologies. This dataset encompasses both normal and adversarial network behaviours, providing a general representation of real-world scenarios.\\nIncorporating data from IoT devices such as ThingSpeak-LED, Wipro-Bulb, and MQTT-Temp, as well as simulated attack scenarios involving Brute-Force SSH attacks, DDoS attacks using Hping and Slowloris, and Nmap patterns, RT-IoT2022 offers a detailed perspective on the complex nature of network traffic. The bidirectional attributes of network traffic are meticulously captured using the Zeek network monitoring tool and the Flowmeter plugin. Researchers can leverage the RT-IoT2022 dataset to advance the capabilities of Intrusion Detection Systems (IDS), fostering the development of robust and adaptive security solutions for real-time IoT networks. ', 'area': 'Engineering', 'tasks': ['Classification', 'Regression', 'Clustering'], 'characteristics': ['Tabular', 'Sequential', 'Multivariate'], 'num_instances': 123117, 'num_features': 83, 'feature_types': ['Real', 'Categorical'], 'demographics': [], 'target_col': ['Attack_type'], 'index_col': ['id'], 'has_missing_values': 'no', 'missing_values_symbol': None, 'year_of_dataset_creation': 2023, 'last_updated': 'Fri Mar 08 2024', 'dataset_doi': '10.24432/C5P338', 'creators': ['B. S.', 'Rohini Nagapadma'], 'intro_paper': {'title': 'Quantized autoencoder (QAE) intrusion detection system for anomaly detection in resource-constrained IoT devices using RT-IoT2022 dataset', 'authors': 'B. S. Sharmila, Rohini Nagapadma', 'published_in': 'Cybersecurity', 'year': 2023, 'url': 'https://www.semanticscholar.org/paper/753f6ede01b4acaa325e302c38f1e0c1ade74f5b', 'doi': None}, 'additional_info': {'summary': None, 'purpose': None, 'funded_by': None, 'instances_represent': None, 'recommended_data_splits': None, 'sensitive_data': None, 'preprocessing_description': None, 'variable_info': 'Column Details:\\nid.orig_p\\nid.resp_p\\nproto\\nservice\\nflow_duration\\nfwd_pkts_tot\\nbwd_pkts_tot\\nfwd_data_pkts_tot\\nbwd_data_pkts_tot\\nfwd_pkts_per_sec\\nbwd_pkts_per_sec\\nflow_pkts_per_sec\\ndown_up_ratio\\nfwd_header_size_tot\\nfwd_header_size_min\\nfwd_header_size_max\\nbwd_header_size_tot\\nbwd_header_size_min\\nbwd_header_size_max\\nflow_FIN_flag_count\\nflow_SYN_flag_count\\nflow_RST_flag_count\\nfwd_PSH_flag_count\\nbwd_PSH_flag_count\\nflow_ACK_flag_count\\nfwd_URG_flag_count\\nbwd_URG_flag_count\\nflow_CWR_flag_count\\nflow_ECE_flag_count\\nfwd_pkts_payload.min\\nfwd_pkts_payload.max\\nfwd_pkts_payload.tot\\nfwd_pkts_payload.avg\\nfwd_pkts_payload.std\\nbwd_pkts_payload.min\\nbwd_pkts_payload.max\\nbwd_pkts_payload.tot\\nbwd_pkts_payload.avg\\nbwd_pkts_payload.std\\nflow_pkts_payload.min\\nflow_pkts_payload.max\\nflow_pkts_payload.tot\\nflow_pkts_payload.avg\\nflow_pkts_payload.std\\nfwd_iat.min\\nfwd_iat.max\\nfwd_iat.tot\\nfwd_iat.avg\\nfwd_iat.std\\nbwd_iat.min\\nbwd_iat.max\\nbwd_iat.tot\\nbwd_iat.avg\\nbwd_iat.std\\nflow_iat.min\\nflow_iat.max\\nflow_iat.tot\\nflow_iat.avg\\nflow_iat.std\\npayload_bytes_per_second\\nfwd_subflow_pkts\\nbwd_subflow_pkts\\nfwd_subflow_bytes\\nbwd_subflow_bytes\\nfwd_bulk_bytes\\nbwd_bulk_bytes\\nfwd_bulk_packets\\nbwd_bulk_packets\\nfwd_bulk_rate\\nbwd_bulk_rate\\nactive.min\\nactive.max\\nactive.tot\\nactive.avg\\nactive.std\\nidle.min\\nidle.max\\nidle.tot\\nidle.avg\\nidle.std\\nfwd_init_window_size\\nbwd_init_window_size\\nfwd_last_window_size\\nAttack_type', 'citation': None}}\n",
      "                    name     role         type demographic description units  \\\n",
      "0              id.orig_p  Feature      Integer        None        None  None   \n",
      "1              id.resp_p  Feature      Integer        None        None  None   \n",
      "2                  proto  Feature  Categorical        None        None  None   \n",
      "3                service  Feature   Continuous        None        None  None   \n",
      "4          flow_duration  Feature   Continuous        None        None  None   \n",
      "..                   ...      ...          ...         ...         ...   ...   \n",
      "80  fwd_init_window_size  Feature      Integer        None        None  None   \n",
      "81  bwd_init_window_size  Feature      Integer        None        None  None   \n",
      "82  fwd_last_window_size  Feature      Integer        None        None  None   \n",
      "83           Attack_type   Target  Categorical        None        None  None   \n",
      "84                    id       ID      Integer        None        None  None   \n",
      "\n",
      "   missing_values  \n",
      "0              no  \n",
      "1              no  \n",
      "2              no  \n",
      "3              no  \n",
      "4              no  \n",
      "..            ...  \n",
      "80             no  \n",
      "81             no  \n",
      "82             no  \n",
      "83             no  \n",
      "84             no  \n",
      "\n",
      "[85 rows x 7 columns]\n"
     ]
    }
   ],
   "source": [
    "from ucimlrepo import fetch_ucirepo \n",
    "  \n",
    "# fetch dataset \n",
    "rt_iot2022 = fetch_ucirepo(id=942) \n",
    "  \n",
    "# data (as pandas dataframes) \n",
    "X = rt_iot2022.data.features \n",
    "y = rt_iot2022.data.targets \n",
    "  \n",
    "# metadata \n",
    "print(rt_iot2022.metadata) \n",
    "  \n",
    "# variable information \n",
    "print(rt_iot2022.variables) \n"
   ]
  },
  {
   "cell_type": "code",
   "execution_count": 5,
   "id": "28dd18a8",
   "metadata": {},
   "outputs": [
    {
     "data": {
      "text/html": [
       "<div>\n",
       "<style scoped>\n",
       "    .dataframe tbody tr th:only-of-type {\n",
       "        vertical-align: middle;\n",
       "    }\n",
       "\n",
       "    .dataframe tbody tr th {\n",
       "        vertical-align: top;\n",
       "    }\n",
       "\n",
       "    .dataframe thead th {\n",
       "        text-align: right;\n",
       "    }\n",
       "</style>\n",
       "<table border=\"1\" class=\"dataframe\">\n",
       "  <thead>\n",
       "    <tr style=\"text-align: right;\">\n",
       "      <th></th>\n",
       "      <th>Attack_type</th>\n",
       "    </tr>\n",
       "  </thead>\n",
       "  <tbody>\n",
       "    <tr>\n",
       "      <th>0</th>\n",
       "      <td>MQTT_Publish</td>\n",
       "    </tr>\n",
       "    <tr>\n",
       "      <th>1</th>\n",
       "      <td>MQTT_Publish</td>\n",
       "    </tr>\n",
       "    <tr>\n",
       "      <th>2</th>\n",
       "      <td>MQTT_Publish</td>\n",
       "    </tr>\n",
       "    <tr>\n",
       "      <th>3</th>\n",
       "      <td>MQTT_Publish</td>\n",
       "    </tr>\n",
       "    <tr>\n",
       "      <th>4</th>\n",
       "      <td>MQTT_Publish</td>\n",
       "    </tr>\n",
       "    <tr>\n",
       "      <th>...</th>\n",
       "      <td>...</td>\n",
       "    </tr>\n",
       "    <tr>\n",
       "      <th>123112</th>\n",
       "      <td>NMAP_XMAS_TREE_SCAN</td>\n",
       "    </tr>\n",
       "    <tr>\n",
       "      <th>123113</th>\n",
       "      <td>NMAP_XMAS_TREE_SCAN</td>\n",
       "    </tr>\n",
       "    <tr>\n",
       "      <th>123114</th>\n",
       "      <td>NMAP_XMAS_TREE_SCAN</td>\n",
       "    </tr>\n",
       "    <tr>\n",
       "      <th>123115</th>\n",
       "      <td>NMAP_XMAS_TREE_SCAN</td>\n",
       "    </tr>\n",
       "    <tr>\n",
       "      <th>123116</th>\n",
       "      <td>NMAP_XMAS_TREE_SCAN</td>\n",
       "    </tr>\n",
       "  </tbody>\n",
       "</table>\n",
       "<p>123117 rows × 1 columns</p>\n",
       "</div>"
      ],
      "text/plain": [
       "                Attack_type\n",
       "0              MQTT_Publish\n",
       "1              MQTT_Publish\n",
       "2              MQTT_Publish\n",
       "3              MQTT_Publish\n",
       "4              MQTT_Publish\n",
       "...                     ...\n",
       "123112  NMAP_XMAS_TREE_SCAN\n",
       "123113  NMAP_XMAS_TREE_SCAN\n",
       "123114  NMAP_XMAS_TREE_SCAN\n",
       "123115  NMAP_XMAS_TREE_SCAN\n",
       "123116  NMAP_XMAS_TREE_SCAN\n",
       "\n",
       "[123117 rows x 1 columns]"
      ]
     },
     "execution_count": 5,
     "metadata": {},
     "output_type": "execute_result"
    }
   ],
   "source": [
    "y"
   ]
  },
  {
   "cell_type": "code",
   "execution_count": 6,
   "id": "bf9ed8cb",
   "metadata": {},
   "outputs": [
    {
     "data": {
      "text/plain": [
       "array(['MQTT_Publish', 'Thing_Speak', 'Wipro_bulb', 'ARP_poisioning',\n",
       "       'DDOS_Slowloris', 'DOS_SYN_Hping', 'Metasploit_Brute_Force_SSH',\n",
       "       'NMAP_FIN_SCAN', 'NMAP_OS_DETECTION', 'NMAP_TCP_scan',\n",
       "       'NMAP_UDP_SCAN', 'NMAP_XMAS_TREE_SCAN'], dtype=object)"
      ]
     },
     "execution_count": 6,
     "metadata": {},
     "output_type": "execute_result"
    }
   ],
   "source": [
    "y['Attack_type'].unique()"
   ]
  },
  {
   "cell_type": "code",
   "execution_count": null,
   "id": "5c6ecf4d",
   "metadata": {},
   "outputs": [],
   "source": []
  }
 ],
 "metadata": {
  "kernelspec": {
   "display_name": "Python 3 (ipykernel)",
   "language": "python",
   "name": "python3"
  },
  "language_info": {
   "codemirror_mode": {
    "name": "ipython",
    "version": 3
   },
   "file_extension": ".py",
   "mimetype": "text/x-python",
   "name": "python",
   "nbconvert_exporter": "python",
   "pygments_lexer": "ipython3",
   "version": "3.9.7"
  }
 },
 "nbformat": 4,
 "nbformat_minor": 5
}
